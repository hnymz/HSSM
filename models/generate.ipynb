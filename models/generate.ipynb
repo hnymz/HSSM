{
 "cells": [
  {
   "cell_type": "code",
   "execution_count": 1,
   "metadata": {},
   "outputs": [],
   "source": [
    "import numpy as np\n",
    "import pandas as pd\n",
    "\n",
    "param_list =[]\n",
    "for batch in range(30):\n",
    "\n",
    "    mean_v = np.random.normal(1.25, 0.2, size=1)\n",
    "    mean_vx = np.random.normal(0.8, 0.1, size=1)\n",
    "    mean_vy = np.random.normal(0.2, 0.1, size=1)\n",
    "    mean_a = np.random.normal(1.5, 0.2, size=1)\n",
    "    mean_t = np.random.normal(0.5, 0.1, size=1)\n",
    "    mean_z = np.random.normal(0.5, 0.1, size=1)\n",
    "\n",
    "    # store ground truth params\n",
    "    param_list.append(\n",
    "    pd.DataFrame(\n",
    "        {\n",
    "            \"v_Intercept\": mean_v,\n",
    "            \"v_x\": mean_vx,\n",
    "            \"v_y\": mean_vy,\n",
    "            \"a\": mean_a,\n",
    "            \"z\": mean_z,\n",
    "            \"t\": mean_t,\n",
    "            \"batch\": batch\n",
    "            }\n",
    "    )\n",
    "    )\n",
    "    param = pd.concat(param_list)\n",
    "param.to_csv('../data/grp_param.csv', index=False)"
   ]
  }
 ],
 "metadata": {
  "kernelspec": {
   "display_name": ".venv",
   "language": "python",
   "name": "python3"
  },
  "language_info": {
   "codemirror_mode": {
    "name": "ipython",
    "version": 3
   },
   "file_extension": ".py",
   "mimetype": "text/x-python",
   "name": "python",
   "nbconvert_exporter": "python",
   "pygments_lexer": "ipython3",
   "version": "3.11.0"
  }
 },
 "nbformat": 4,
 "nbformat_minor": 2
}
